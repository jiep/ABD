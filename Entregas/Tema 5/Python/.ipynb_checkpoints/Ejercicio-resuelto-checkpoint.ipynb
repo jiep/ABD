{
 "cells": [
  {
   "cell_type": "markdown",
   "metadata": {},
   "source": [
    "# Introducción a Python 3 para Ciencia de Datos"
   ]
  },
  {
   "cell_type": "code",
   "execution_count": 34,
   "metadata": {
    "collapsed": true
   },
   "outputs": [],
   "source": [
    "# Zona de importación de bibliotecas para todo el ejercicio\n",
    "import csv\n",
    "import numpy as np\n",
    "import scipy.stats\n",
    "from statsmodels.nonparametric.kde import KDEUnivariate\n",
    "from matplotlib import pyplot as plt\n",
    "# Gráficos integrados en el notebook\n",
    "%matplotlib inline"
   ]
  },
  {
   "cell_type": "markdown",
   "metadata": {},
   "source": [
    "## Ejercicio 1"
   ]
  },
  {
   "cell_type": "markdown",
   "metadata": {},
   "source": [
    "El archivo *Air_Quality.csv* contiene datos sobre diversos indicadores de la calidad del aire en la ciudad de Nueva York (EE.UU.) para diversas fechas (años puntuales o rangos de años).\n",
    "\n",
    "Para este ejercicio, vamos a visualizar los datos sobre concentración promedio de partículas de benzeno en el aire. Estos datos corresponden a las 48 primeras filas de datos del archivo.\n",
    "\n",
    "En primer lugar se pide, utilizando la biblioteca estándar de Python `csv`, leer los valores correspondientes a las filas de datos para este indicador, cuyo identificador numérico en el archivo es *646*. "
   ]
  },
  {
   "cell_type": "code",
   "execution_count": 5,
   "metadata": {
    "collapsed": false
   },
   "outputs": [
    {
     "name": "stdout",
     "output_type": "stream",
     "text": [
      "[2.8, 2.8, 4.7, 1.9, 1.6, 2.9, 2.9, 2.8, 2.7, 2.7, 3.0, 3.0, 2.8, 3.7, 3.7, 2.5, 2.3, 3.2, 2.5, 2.3, 2.4, 2.8, 2.4, 2.8, 4.1, 3.9, 4.2, 3.9, 4.5, 4.9, 5.3, 4.7, 5.0, 6.3, 2.7, 2.2, 1.9, 1.9, 2.0, 1.7, 1.8, 1.8, 1.8, 1.4, 2.5, 1.3, 1.6, 1.1, 3.3]\n"
     ]
    }
   ],
   "source": [
    "import csv\n",
    "\n",
    "# Inicialización de variables\n",
    "measure = 'Concentración media'\n",
    "year = []\n",
    "geo_entity = []\n",
    "geo_type = []\n",
    "data_value = []\n",
    "\n",
    "with open('Air_Quality.csv', newline='') as csvfile:\n",
    "    airq_reader = csv.DictReader(csvfile)\n",
    "    for row in airq_reader:\n",
    "        # Asignación y conversión de variables\n",
    "        year.append(int(row['year_description']))\n",
    "        geo_entity.append(row['geo_entity_name'])\n",
    "        geo_type.append(row['geo_type_name'])\n",
    "        data_value.append(float(row['data_valuemessage']))\n",
    "        \n",
    "        # Salir cuando acabemos con este indicador\n",
    "        if row['indicator_id'] != '646':\n",
    "            break\n",
    "\n",
    "print(data_value)"
   ]
  },
  {
   "cell_type": "markdown",
   "metadata": {},
   "source": [
    "## Ejercicio 2"
   ]
  },
  {
   "cell_type": "markdown",
   "metadata": {},
   "source": [
    "Obtener algunos descriptores básicos para la serie de valores promedio de este parámetro:\n",
    "\n",
    "    * Media y mediana.\n",
    "    * Desviación típica.\n",
    "    * Mínimo, máximo, primer y tercer cuartil.\n",
    "\n",
    "Puede consultar la documentación en línea sobre [funciones estadísticas en scipy.stats](http://docs.scipy.org/doc/scipy/reference/stats.html#statistical-functions)"
   ]
  },
  {
   "cell_type": "code",
   "execution_count": 16,
   "metadata": {
    "collapsed": false
   },
   "outputs": [
    {
     "name": "stdout",
     "output_type": "stream",
     "text": [
      "Media:  2.91836734694 Mediana: 2.8\n",
      "Desviación típica:  1.14386981373\n",
      "Mínimo:  1.1 Máximo:  6.3\n",
      "Primer cuartil:  2.0 Tercer cuartil:  3.7\n"
     ]
    }
   ],
   "source": [
    "# Media y mediana\n",
    "print('Media: ', np.mean(data_value), 'Mediana:', np.median(data_value))\n",
    "\n",
    "# Desviación típica\n",
    "print('Desviación típica: ', np.std(data_value))\n",
    "\n",
    "# Mínimo, máximo, primer y tercer cuartil\n",
    "print('Mínimo: ', np.min(data_value), 'Máximo: ', np.max(data_value))\n",
    "print('Primer cuartil: ', np.percentile(data_value, 25), 'Tercer cuartil: ', np.percentile(data_value, 75))\n",
    "\n",
    "# Nota: Otra función conveniente para obtener varios valores descriptivos\n",
    "summary = scipy.stats.describe(data_value)"
   ]
  },
  {
   "cell_type": "markdown",
   "metadata": {},
   "source": [
    "## Ejercicio 3"
   ]
  },
  {
   "cell_type": "markdown",
   "metadata": {},
   "source": [
    "Represente el histograma de esta secuencia de valores."
   ]
  },
  {
   "cell_type": "code",
   "execution_count": 37,
   "metadata": {
    "collapsed": false
   },
   "outputs": [
    {
     "data": {
      "text/plain": [
       "<matplotlib.text.Text at 0x7f8179318550>"
      ]
     },
     "execution_count": 37,
     "metadata": {},
     "output_type": "execute_result"
    },
    {
     "data": {
      "image/png": "[encoded data removed]",
      "text/plain": [
       "<matplotlib.figure.Figure at 0x7f817cbd2da0>"
      ]
     },
     "metadata": {},
     "output_type": "display_data"
    }
   ],
   "source": [
    "hist, bins = np.histogram(data_value, density=False)\n",
    "width = 0.7 * (bins[1] - bins[0])\n",
    "center = (bins[:-1] + bins[1:]) / 2\n",
    "plt.bar(center, hist, align='center', width=width, ec='blue', fc='blue', alpha=0.4)\n",
    "plt.title('Histograma concent. media part. benzeno NYC')"
   ]
  },
  {
   "cell_type": "markdown",
   "metadata": {},
   "source": [
    "## Ejercicio 4"
   ]
  },
  {
   "cell_type": "markdown",
   "metadata": {},
   "source": [
    "Represente la función de densidad de probabilidad de esta serie de valores. ¿Qué conclusiones podemos sacar a partir de esta información descriptiva y gráficas?\n",
    "\n",
    "Nota: Puede consultar esta información sobre [estimación de funciones de densidad de probabilidad en Python](https://jakevdp.github.io/blog/2013/12/01/kernel-density-estimation/)."
   ]
  },
  {
   "cell_type": "code",
   "execution_count": 38,
   "metadata": {
    "collapsed": false
   },
   "outputs": [
    {
     "data": {
      "text/plain": [
       "[<matplotlib.lines.Line2D at 0x7f817923ab70>]"
      ]
     },
     "execution_count": 38,
     "metadata": {},
     "output_type": "execute_result"
    },
    {
     "data": {
      "image/png": "[encoded data removed]",
      "text/plain": [
       "<matplotlib.figure.Figure at 0x7f817cb8bcf8>"
      ]
     },
     "metadata": {},
     "output_type": "display_data"
    }
   ],
   "source": [
    "# De las distintas opciones que se nos presentan, podemos usar la estimación\n",
    "# exacta de la función gaussian_kde dentro de scipy.stats o bien la\n",
    "# la clase KDEUnivariate de statsmodels.nonparametric.kde import \n",
    "x_grid = np.linspace(-1, 7, 500)\n",
    "kde = KDEUnivariate(data_value)\n",
    "kde.fit(bw=0.2)\n",
    "pdf = kde.evaluate(x_grid)\n",
    "\n",
    "plt.plot(x_grid, pdf, color='blue', alpha=0.5, lw=2)"
   ]
  },
  {
   "cell_type": "markdown",
   "metadata": {},
   "source": [
    "**Introduce aquí tus conclusiones**."
   ]
  }
 ],
 "metadata": {
  "kernelspec": {
   "display_name": "Python 3",
   "language": "python",
   "name": "python3"
  },
  "language_info": {
   "codemirror_mode": {
    "name": "ipython",
    "version": 3
   },
   "file_extension": ".py",
   "mimetype": "text/x-python",
   "name": "python",
   "nbconvert_exporter": "python",
   "pygments_lexer": "ipython3",
   "version": "3.5.1"
  }
 },
 "nbformat": 4,
 "nbformat_minor": 0
}
