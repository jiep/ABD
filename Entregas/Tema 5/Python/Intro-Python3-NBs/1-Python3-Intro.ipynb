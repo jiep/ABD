{
 "cells": [
  {
   "cell_type": "markdown",
   "metadata": {},
   "source": [
    "# Introducción a Python 3 para Ciencia de Datos"
   ]
  },
  {
   "cell_type": "markdown",
   "metadata": {},
   "source": [
    "En esta sesión, vamos a hacer un repaso por las principales características del lenguaje de programación Python que se utilizan en ciencia de datos. Para ello, vamos a utilizar **Python 3** (versión 3.4), así como algunas de las bibliotecas más habituales para programación científica con Python."
   ]
  },
  {
   "cell_type": "markdown",
   "metadata": {},
   "source": [
    "## Otros recursos"
   ]
  },
  {
   "cell_type": "markdown",
   "metadata": {},
   "source": [
    "A continuación, se presenta una lista con algunos recursos útiles de referencia y aprendizaje de las características básicas de Python, así como de las bibliotecas para programación científica con este lenguaje."
   ]
  },
  {
   "cell_type": "markdown",
   "metadata": {},
   "source": [
    "1. **Documentación oficial de Python** (v3.4). &lt; https://docs.python.org/3.4/ &gt;\n",
    "2. **Tutorial de Python y Django en español**. &lt; http://docs.python.org.ar/tutorial/ &gt;\n",
    "3. Software Carpentry. ***Programming with Python***. &lt; http://swcarpentry.github.io/python-novice-inflammation/ &gt;\n",
    "4. **SciPy Lecture Notes**. &lt; [HTML en línea](http://www.scipy-lectures.org/) &gt; &lt; [PDF 2 páginas por hoja](http://www.scipy-lectures.org/_downloads/ScipyLectures.pdf) &gt; &lt; [Código fuente](https://github.com/scipy-lectures/scipy-lecture-notes) &gt;"
   ]
  },
  {
   "cell_type": "markdown",
   "metadata": {},
   "source": [
    "# Contenidos"
   ]
  },
  {
   "cell_type": "markdown",
   "metadata": {},
   "source": [
    "* [1. Entorno de trabajo](#Entorno)\n",
    "  * [1.1 Gestión de paquetes y entornos](#Gestion-paquetes)\n",
    "  * [1.2 Gestión de paquetes externos](#Paquetes-ext)\n",
    "  * [1.3 Spyder IDE](#Spyder)\n",
    "  * [1.4 Jupyter](#Jupyter)\n",
    "    "
   ]
  },
  {
   "cell_type": "markdown",
   "metadata": {},
   "source": [
    "<a id='Entorno'></a>\n",
    "# 1. Entorno de trabajo"
   ]
  },
  {
   "cell_type": "markdown",
   "metadata": {},
   "source": [
    "El entorno de trabajo que utilizaremos sera [**Anaconda**](https://www.continuum.io/downloads) una distribución de Python para programación científica proporcionada por la empresa estadounidense Continuum Analytics.\n",
    "\n",
    "Anaconda proporciona los siguientes componentes:\n",
    "* **Bibliotecas** de Python ya compiladas y enlazadas.\n",
    "* **Spyder**, una IDE de programación para Python.\n",
    "* **Jupyter**, un entorno de programación y documentación en línea.\n",
    "\n",
    "En las referencias dentro de la sección *Software &amp; IDE* del Aula Virtual se pueden encontrar todas las instrucciones para instalar Anaconda.\n",
    "\n",
    "**IMPORTANTE**: **En GNU/Linux**, nuestro sistema operativo ya llevará instalada una versión de Python. Cuando el instalador de *Anaconda* nos pregunte si queremos modificar nuestra variable de entorno *PATH* con la ruta de *Anaconda* es **recomendable contestar 'No'**. Para **ejecutar todos los comandos** indicados a continuación, basta **abrir el terminal en el directorio donde hayamos instalado *Anaconda***, normalmente `~/anaconda3/bin`."
   ]
  },
  {
   "cell_type": "markdown",
   "metadata": {},
   "source": [
    "<a id='Gestion-paquetes'></a>\n",
    "## 1.1. Gestión de paquetes y entornos"
   ]
  },
  {
   "cell_type": "markdown",
   "metadata": {},
   "source": [
    "Anaconda utiliza un programa propio llamado *conda* para gestionar la instalación y actualización de paquetes de Python (u otros lenguajes soportados recientemente, como R). Esto siginifica que si usamos conda siempre garantizaremos que tenemos las versiones adecuadas (y compatibles entre sí) de los diferentes paquetes y módulos que instalemos en nuestro sistema.\n",
    "\n",
    "En nuestras sesiones, utilizaremos solo las funcionalidades básicas para instalación y actualización de paquetes. A continuación, se presentan algunas de las operaciones básicas que podemos realizar.\n",
    "\n",
    "***Importante***: Es conveniente actualizar periódicamente tanto el gestor de paquetes *conda* como la colección de paquetes y bibliotecas instalados en nuestro sistema.\n",
    "\n",
    "El gestor de paquetes *conda* funciona desde la línea de comandos, así que tendremos que acceder a ella con el método adecuado dependiendo de nuestro sistema operativo:\n",
    "\n",
    "* **Windows**: La mejor opción suele ser utilizar *PowerShell*. Podemos encontrarla a través del buscador de programas en el Menú de Inicio.\n",
    "* **OS X**: Se accede a través de la aplicación *Terminal*.\n",
    "* **GNU/Linux**: Normalmente existe un enlace desde el escritorio o el gestor de programas para acceder a la terminal de línea de comandos. Su ubicación varía dependiendo del escritorio que empleemos (por ejemplo KDE, Gnome o Unity).\n",
    "\n",
    "**Actualización de conda**\n",
    "\n",
    "```shell\n",
    "conda update conda\n",
    "```\n",
    "\n",
    "**Actualización de paquetes individuales**\n",
    "\n",
    "```shell\n",
    "conda update nombre_paquete\n",
    "```\n",
    "\n",
    "**Actualización de todos los paquetes**\n",
    "\n",
    "```shell\n",
    "conda update --all\n",
    "```\n",
    "\n",
    "En esta operación, *conda* comprueba posibles incompatibilidades entre las nuevas versiones de los paquetes a instalar, y puede incluso pasar algunos paquetes a versiones anteriores para evitar estos problemas.\n",
    "\n",
    "\n",
    "**Listado de todos los paquetes instalados**\n",
    "\n",
    "```shell\n",
    "conda list\n",
    "```\n",
    "\n",
    "**Instalación de nuevos paquetes**\n",
    "\n",
    "```shell\n",
    "conda install nombre_paquete\n",
    "```\n",
    "\n",
    "La [documentación de conda](http://conda.pydata.org/docs/) ofrece mucha más información (incluyendo un video-tutorial) sobre todas las posibilidades que ofrece esta herramienta de gestión. En particular, la sección [gestionando paquetes](http://conda.pydata.org/docs/using/pkgs.html) ofrece información relativa a estas tareas con *conda*."
   ]
  },
  {
   "cell_type": "markdown",
   "metadata": {},
   "source": [
    "<a id=\"Paquetes-ext\"></a>\n",
    "## 1.2 Gestión de paquetes externos"
   ]
  },
  {
   "cell_type": "markdown",
   "metadata": {},
   "source": [
    "Aunque *Anaconda* tiene una completa [lista de más de 300 paquetes](http://docs.continuum.io/anaconda/pkg-docs) que podemos instalar a través de *conda* (como hemos visto antes). Estos paquetes son directamente mantenidos por los desarrolladores de Continuum Analytics. Sin embargo, en ocasiones podríamos necesitar instalar otros paquetes o módulos de Python que todavía no estén incluidos en el listado anterior.\n",
    "\n",
    "El [Python Package Index (PyPI](https://pypi.python.org/pypi) es un repositorio oficial con todos los paquetes y módulos disponibles para Python (y su compatibilidad con las diferentes versiones del lenguaje). Todos estos paquetes se pueden instalar y gestionar mediante una utilidad llamada *pip*. Este programa también viene incluido en nuestra instalación de *Anaconda*.\n",
    "\n",
    "**Instalación de paquetes**\n",
    "\n",
    "```shell\n",
    "pip install nombre_paquete\n",
    "```\n",
    "\n",
    "**Actualización de paquetes (y dependencias)**\n",
    "\n",
    "```shell\n",
    "pip install --upgrade nombre_paquete\n",
    "```"
   ]
  },
  {
   "cell_type": "markdown",
   "metadata": {},
   "source": [
    "<a id=\"Spyder\"></a>\n",
    "## 1.3 Spyder IDE"
   ]
  },
  {
   "cell_type": "markdown",
   "metadata": {},
   "source": [
    "La distribución *Anaconda* incorpora [Spyder](https://pythonhosted.org/spyder/), uno de los entornos de desarrollo para Python más populares.\n",
    "\n",
    "**Ejecución de Spyder desde *Anaconda***\n",
    "* **Windows o MacOS X**: Abrir el *Launcher* de *Anaconda* disponible en el escritorio y seleccionar *spyder-app*.\n",
    "* **GNU/Linux**: Abrir el terminal en el directorio de instalación de *Anaconda* (normalmente `~/anaconda3/bin`) y ejecutar el comando `spyder`.\n",
    "\n",
    "Una vez abierto el programa, se mostrará la interfaz gráfica, parecida a la de la figura siguiente.\n",
    "\n",
    "<img src=\"./figs/Spyder-IDE.png\" width=\"900\" title=\"Spyder IDE para Python\">\n",
    "\n",
    "Como podemos ver en la figura, la pantalla principal de Spyder nos muestra tres zonas con diferentes funciones:\n",
    "\n",
    "* En la parte izquierda tenemos el **editor de ficheros**, que nos permite crear y modificar nuestros programas en Python. Incluye las principales características esperables de un IDE moderno (resaltado de sintaxis, autocompletar, documentación en línea, etc.).\n",
    "* En la parte superior derecha, tenemos un marco que muestra tres herramientas en diferentes pestañas seleccionables:\n",
    "    * El **inspector de objetos** permite visualizar la documentación disponible sobre clases y funciones en los módulos de Python de las diferentes bibliotecas disponibles, o bien del código de nuestro propio proyecto. Podemos seleccionar diferentes orígenes (*Terminal* o *Editor*) en el desplegable de la esquina superior izquierda, dentro de este panel.\n",
    "    * El **explorador de variables** facilita las tareas de revisión y depuración de nuestros programas, permitiendo inspeccionar el tipo y valor que toman las variables durante la ejecución de nuestro código. Para ello, podemos incluir puntos de parada y revisión dentro de nuestro código, en los que podremos evaluar dichos valores para ver si el programa se ejecuta correctamente.\n",
    "    * Finalmente, el **explorador de archivos** ofrece una forma fácil de navegar por los directorios de nuestro sistema de archivos.\n",
    "* En la parte inferior derecha, encontramos otro marco con dos pestañas más (la pestaña *Terminal* no suele ser relevante):\n",
    "    * El **historial de comandos** guarda una bitácora de todos los comandos que hemos ejecutado en la sesión de trabajo actual, de forma cronológica.\n",
    "    * El **terminal de IPython** nos presenta un intérprete de Python avanzado para realizar pruebas o ejecutar código de forma interactiva.\n",
    "    \n",
    "Iremos explorando muchas de las funcionalidades de este entorno de programación conforme avancemos el curso."
   ]
  },
  {
   "cell_type": "markdown",
   "metadata": {},
   "source": [
    "<a id=\"Jupyter\"></a>\n",
    "## 1.4 Jupyter"
   ]
  },
  {
   "cell_type": "markdown",
   "metadata": {},
   "source": [
    "Por último, [Jupyter](https://jupyter.org/) es otro proyecto integrado dentro de la distribución *Anaconda*. Proporciona un entorno interactivo de trabajo, accesible a través del navegador, especialmente pensado para trabajo con análisis de datos y computación científica. Originalmente este proyecto solo soportaba el lenguaje Python, pero más tarde se ha introducido soporte para otros lenguajes. Además de para Python, también usaremos *Jupyter* para trabajar con el lenguaje R de programación estadística.\n",
    "\n",
    "**Ejecución del gestor de *notebooks* Jupyter en *Anaconda***\n",
    "* **Windows y MacOS X**: Abrir *Anaconda Launcher* y lanzar la aplicación *ipython-notebook*. Se abrira una nueva pestaña en nuestro navegador por defecto con el gestor de notebooks.\n",
    "* **GNU/Linux**: Abrir el terminal en el directorio de instalación de *Anaconda* (normalmente `~/anaconda3/bin`) y ejecutar el comando `jupyter-notebook`.\n",
    "\n",
    "<img src=\"https://jupyter.org/assets/jupyterpreview.png\" width=\"700\" title=\"Notebooks en Jupyter\"> "
   ]
  }
 ],
 "metadata": {
  "kernelspec": {
   "display_name": "Python 3",
   "language": "python",
   "name": "python3"
  },
  "language_info": {
   "codemirror_mode": {
    "name": "ipython",
    "version": 3
   },
   "file_extension": ".py",
   "mimetype": "text/x-python",
   "name": "python",
   "nbconvert_exporter": "python",
   "pygments_lexer": "ipython3",
   "version": "3.4.3"
  }
 },
 "nbformat": 4,
 "nbformat_minor": 0
}
