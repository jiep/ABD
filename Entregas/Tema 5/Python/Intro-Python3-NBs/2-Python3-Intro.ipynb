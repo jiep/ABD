{
 "cells": [
  {
   "cell_type": "markdown",
   "metadata": {},
   "source": [
    "# Introducción a Python 3 para Ciencia de Datos"
   ]
  },
  {
   "cell_type": "markdown",
   "metadata": {},
   "source": [
    "## Contenidos"
   ]
  },
  {
   "cell_type": "markdown",
   "metadata": {},
   "source": [
    "* [2. Programación en Python](#2.-Programación-en-Python)\n",
    "    * [2.1 El primer programa](#2.1-El-primer-pograma)\n",
    "    * [2.2 Tipos de datos integrados](#2.2-Tipos-de-datos-integrados)\n",
    "        * [2.2.1 Operaciones booleanas](#2.2.1-Operaciones-booleanas:-verdadero/falso)\n",
    "        * [2.2.2 Datos numéricos](#2.2.2-Datos-numéricos)\n",
    "        * [2.2.3 Secuencias: Cadenas de caracteres](#2.2.3-Secuencias:-Cadenas-de-caracteres)\n",
    "        * [2.2.4 Secuencias: Tuplas](#2.2.4-Secuencias:-Tuplas)\n",
    "        * [2.2.5 Secuencias: Listas](#2.2.5-Secuencias:-Listas)\n",
    "        * [2.2.6 Mapeo: Diccionarios](#2.2.6-Mapeo:-Diccionarios)\n",
    "        * [2.2.7 Conjuntos](#2.2.7-Conjuntos)\n",
    "    * [2.2.3 Control de flujo](#2.3-Control-de-flujo)\n",
    "        * [2.3.1 If/elif/else](#2.3.1-If/elif/else)\n",
    "        * [2.3.2 While](#2.3.2-While)\n",
    "        * [2.3.3 For/range](#2.3.3-For/range)\n",
    "        * [2.3.4 Break/continue y else en bucles](#2.3.4-Break/continue-y-else-en-bucles)\n",
    "        * [2.3.5 Métodos avanzados de iteración](#2.3.5-Métodos-avanzados-de-iteración)\n",
    "        "
   ]
  },
  {
   "cell_type": "markdown",
   "metadata": {},
   "source": [
    "## Otros recursos"
   ]
  },
  {
   "cell_type": "markdown",
   "metadata": {},
   "source": [
    "Para ampliar el contenido de esta sesión, se recomienda consultar:\n",
    "\n",
    "* El material de referencia de [SciPy Lecture Notes](http://www.scipy-lectures.org/), en particular su sección [1.2 The Python language](http://www.scipy-lectures.org/intro/language/python_language.html).\n",
    "* La **documentación oficial de Python**, que incluye:\n",
    "    * **Tutorial** de introducción a Python. &lt; https://docs.python.org/3.4/tutorial/index.html &gt;\n",
    "    * Referencia de la **biblioteca estándar**. &lt; https://docs.python.org/3.4/library/index.html &gt;"
   ]
  },
  {
   "cell_type": "markdown",
   "metadata": {},
   "source": [
    "# 2. Programación en Python"
   ]
  },
  {
   "cell_type": "markdown",
   "metadata": {},
   "source": [
    "Python se ha convertido en uno de los lenguajes de programación más populares en la actualidad, especialmente para programación científica y ciencia de datos. Sus principales características son:\n",
    "\n",
    "* Es un lenguaje **interpretado**, no compilado (como podría ser C). Por tanto, podemos ejecutarlo interactivamente a través de un *intérprete de Python* (como por ejemplo IPython en Spyder).\n",
    "* Es **software libre**, y concentra a su alrededor una importante comunidad de desarrolladores y patrocinadores que fomentan su crecimiento y actualización.\n",
    "* Es un lenguaje **multiplataforma**, que puede ejecutarse en los principales sistemas operativos (GNU/Linux, Windows, OS X).\n",
    "* Viene acompañado de una larga **lista de bibliotecas** y **paquetes software**, que ya implementan una gran variedad de funcionalidades (desde cálculo científico hasta entornos completos de desarrollo web).\n",
    "* Es un lenguaje de programación directo, que fomenta la concisión y la claridad en el desarrollo de código.\n",
    "* Se adapta bien a **diferentes paradigmas de programación**, tales como programación imperativa, orientada objetvos o funcional.\n",
    "* Proporciona interfaces para integrar código en otros lenguajes de forma sencilla, particularmente C y C++.\n",
    "\n",
    "Al mismo tiempo, Python posee ciertas peculiaridades respecto a otros lenguajes:\n",
    "\n",
    "* Su sintaxis directa no utiliza llaves, por lo que es obligatorio **identar nuestro código** (y hacerlo de forma ordenada y consistente).\n",
    "* Los **tipos de datos** de las **variables** pueden **cambiar dinámicamente** durante la ejecución de un programa. Aunque esto nos ofrece capacidades muy potentes para la programación, puede ser perjudicial si se abusa mucho de esta capacidad.\n",
    "\n",
    "Iremos aprendiendo muchas de estas características a lo largo del curso."
   ]
  },
  {
   "cell_type": "markdown",
   "metadata": {},
   "source": [
    "## 2.1 El primer pograma"
   ]
  },
  {
   "cell_type": "markdown",
   "metadata": {},
   "source": [
    "Es muy habitual que el primer programa que hagamos en cualquier lenguaje de programación muestre el mensaje \"¡Hola mundo!\". Este ejemplo demuestra lo directo que resulta programar en Python. Si escribimos en nuestro intérprete de IPython la siguiente línea de código, obtendremos el resultado deseado:"
   ]
  },
  {
   "cell_type": "code",
   "execution_count": null,
   "metadata": {
    "collapsed": false
   },
   "outputs": [],
   "source": [
    "print(\"¡Hola mundo!\")"
   ]
  },
  {
   "cell_type": "markdown",
   "metadata": {},
   "source": [
    "Las siguientes instrucciones en el intérprete de IPython nos permiten practicar algunas operaciones básicas:"
   ]
  },
  {
   "cell_type": "code",
   "execution_count": null,
   "metadata": {
    "collapsed": false
   },
   "outputs": [],
   "source": [
    "# Creación de variables\n",
    "x = 3\n",
    "\n",
    "# Creación de una variable a partir de otra anterior\n",
    "y = 4*x"
   ]
  },
  {
   "cell_type": "code",
   "execution_count": null,
   "metadata": {
    "collapsed": false
   },
   "outputs": [],
   "source": [
    "# Comprobación dinámica del tipo de una variable\n",
    "type(x)     "
   ]
  },
  {
   "cell_type": "code",
   "execution_count": null,
   "metadata": {
    "collapsed": false
   },
   "outputs": [],
   "source": [
    "# Mostrar el valor de la variable\n",
    "print(y)"
   ]
  },
  {
   "cell_type": "code",
   "execution_count": null,
   "metadata": {
    "collapsed": false
   },
   "outputs": [],
   "source": [
    "# Operacines aritmétcias\n",
    "print(\"La suma de x e y es:\", x + y)\n",
    "\n",
    "print(\"El producto de x e y es:\", x * y)"
   ]
  },
  {
   "cell_type": "code",
   "execution_count": null,
   "metadata": {
    "collapsed": false
   },
   "outputs": [],
   "source": [
    "# Cambiamos la variable 'y' a cadena de caracteres\n",
    "# Nótese el soporte para tildes, etc.\n",
    "y = '¿Qué tal?'\n",
    "\n",
    "type(y)"
   ]
  },
  {
   "cell_type": "code",
   "execution_count": null,
   "metadata": {
    "collapsed": false
   },
   "outputs": [],
   "source": [
    "# Las operaciones cambian en función del tipo de variable\n",
    "print('¿Qué ocurre si sumo dos cadenas?:', y + ' Muy bien')\n",
    "\n",
    "print('¿Y si las multiplico?', 5*y)"
   ]
  },
  {
   "cell_type": "markdown",
   "metadata": {},
   "source": [
    "## 2.2 Tipos de datos integrados"
   ]
  },
  {
   "cell_type": "markdown",
   "metadata": {},
   "source": [
    "Python viene preparado de serie con un compendio de **tipos de datos** que ya vienen integrados en el intérprete. Para más información, consultar la sección [Built-in Types](https://docs.python.org/3.4/library/stdtypes.html) en la documentación oficial de Python."
   ]
  },
  {
   "cell_type": "markdown",
   "metadata": {},
   "source": [
    "### 2.2.1 Operaciones booleanas: verdadero/falso"
   ]
  },
  {
   "cell_type": "markdown",
   "metadata": {},
   "source": [
    "En Python se definen dos constantes para representar los valores booleanos *Verdadero* y *Falso*. Además, se pueden realizar operaciones sobre cualquier conjunto de valores booleanos. "
   ]
  },
  {
   "cell_type": "code",
   "execution_count": null,
   "metadata": {
    "collapsed": false
   },
   "outputs": [],
   "source": [
    "# Verdadero\n",
    "True\n",
    "\n",
    "# Falso\n",
    "False\n",
    "\n",
    "# Los siguientes valores se consideran siempre como False\n",
    "None\n",
    "False\n",
    "# Cero en cualquier tipo de datos numérico\n",
    "0, 0.0, 0j \n",
    "# Cualquier secuencia vacía\n",
    "'', (), [] \n",
    "# Cualquier mapeo vacío\n",
    "{}"
   ]
  },
  {
   "cell_type": "code",
   "execution_count": null,
   "metadata": {
    "collapsed": false
   },
   "outputs": [],
   "source": [
    "# Operaciones booleanas\n",
    "\n",
    "# And lógico\n",
    "print(True and False)\n",
    "\n",
    "# Or lógico\n",
    "print(True or False)\n",
    "\n",
    "# Negación\n",
    "print(not False)"
   ]
  },
  {
   "cell_type": "markdown",
   "metadata": {},
   "source": [
    "Además, existe una serie de [comparadores](https://docs.python.org/3.4/library/stdtypes.html#comparisons) que permiten realizar operaciones de comparación sobre valores y variables, dando como resultado un valor booleano (`True` o `False`)."
   ]
  },
  {
   "cell_type": "markdown",
   "metadata": {},
   "source": [
    "### 2.2.2 Datos numéricos"
   ]
  },
  {
   "cell_type": "markdown",
   "metadata": {},
   "source": [
    "Existen tres tipos de datos numéricos en Python: `int` (enteros), `float` (números con decimales) y `complex` (números complejos)."
   ]
  },
  {
   "cell_type": "code",
   "execution_count": null,
   "metadata": {
    "collapsed": false
   },
   "outputs": [],
   "source": [
    "# Números enteros\n",
    "a = 2 * 3\n",
    "print(a)\n",
    "\n",
    "type(a)"
   ]
  },
  {
   "cell_type": "code",
   "execution_count": null,
   "metadata": {
    "collapsed": false
   },
   "outputs": [],
   "source": [
    "# Números decimales (coma flotante)\n",
    "b = 3.1416\n",
    "type(b)"
   ]
  },
  {
   "cell_type": "code",
   "execution_count": null,
   "metadata": {
    "collapsed": false
   },
   "outputs": [],
   "source": [
    "# Números complejos (parte real + parte imaginaria)\n",
    "z = 1. + 1.j # Cuidado con el uso de los puntos!!\n",
    "print('Parte real de z:', z.real)\n",
    "print('Parte imaginaria de z:', z.imag)\n",
    "type(z)"
   ]
  },
  {
   "cell_type": "markdown",
   "metadata": {},
   "source": [
    "La referencia de la biblioteca estándar de Python ofrece información adicional sobre [tipos de datos numéricos y operaciones](https://docs.python.org/3.4/library/stdtypes.html#numeric-types-int-float-complex) que podemos realizar sobre ellos."
   ]
  },
  {
   "cell_type": "markdown",
   "metadata": {},
   "source": [
    "<a id=\"Strings\"></a>\n",
    "### 2.2.3 Secuencias: Cadenas de caracteres"
   ]
  },
  {
   "cell_type": "markdown",
   "metadata": {},
   "source": [
    "En Python 3, las cadenas de caracteres se tratan como objetos de tipo `str`. Son secuencias **inmutables** de caracteres representados según el estandar Unicode. Que sean *inmutables* implica que una vez creada la secuencia ya no se puede alterar su valor. Para cambiarlas, hace falta crear una nueva secuencia totalmente nueva, o seleccionando y combinando componentes de una cadena de caracteres ya existente.\n",
    "\n",
    "Veamos algunos ejemplos:"
   ]
  },
  {
   "cell_type": "code",
   "execution_count": null,
   "metadata": {
    "collapsed": false
   },
   "outputs": [],
   "source": [
    "# Formas de definir una cadena de caracteres en Python\n",
    "# Todas ellas son equivalentes, pero algunas nos aportan ciertas ventajas\n",
    "\n",
    "# Forma 1: Delimitamos la cadena de caracteres entre comillas simples\n",
    "cadena = 'Esto es una cadena de caracteres'\n",
    "print(type(cadena))\n",
    "\n",
    "# Forma 2: Deilimitamos la cadena entre comillas dobles\n",
    "cadena2 = \"Otra cadena de caracteres\"\n",
    "\n",
    "# Podemos introducir comillas de un tipo dentro de la cadena\n",
    "# siempre que delimitemos los extremos con el otro tipo de comillas\n",
    "ejemplo = 'Metemos \"comillas dobles\" dentro de comillas simples'\n",
    "ejemplo2 = \"Metemos 'comillas simples' dentro de comillas dobles\"\n",
    "\n",
    "# Forma 3: Usamos triples comillas (simples o dobles) para delimitar cadenas\n",
    "# que ocupen más de una línea. Todos los espacios en blanco y saltos de línea\n",
    "# serán incluidos dentro de la cadena\n",
    "linea = '''Esto es un ejemplo de una cadena\n",
    "de caracteres que ocupa dos líneas'''\n",
    "\n",
    "# El salto de línea se representa como \\n y una tabulación como \\t\n",
    "linea2 = 'Primera línea \\nSegunda línea y ahora\\t tabulamos'\n",
    "print(linea2)"
   ]
  },
  {
   "cell_type": "markdown",
   "metadata": {},
   "source": [
    "Como las cadenas de caracteres en Python 3 se representan mediante secuencias de caracteres individuales, se pueden aplicar sobre ellas cualquiera de las [operaciones comunes para objetos de tipo secuencia](https://docs.python.org/3.4/library/stdtypes.html#typesseq-common).\n",
    "\n",
    "Además, también se puede aplicar sobre ellas una serie de [operaciones específicas para objetos de tipo `str`](https://docs.python.org/3.4/library/stdtypes.html#string-methods).\n",
    "\n",
    "Veamos algunos ejemplos:"
   ]
  },
  {
   "cell_type": "code",
   "execution_count": null,
   "metadata": {
    "collapsed": false
   },
   "outputs": [],
   "source": [
    "# Longitud\n",
    "print('Longitud de la cadena ejemplo:', len(ejemplo))\n",
    "\n",
    "# Concatenamos dos cadenas\n",
    "print(ejemplo +  ejemplo2)\n",
    "\n",
    "# Todo mayúsculas\n",
    "print(cadena.upper())\n",
    "\n",
    "# Centrado (para una línea de longitud 80 caracteres)\n",
    "print(cadena.center(80))\n",
    "\n",
    "# Todo en minúsculas\n",
    "print(cadena.lower())\n",
    "\n",
    "# ¿Son todos los caracteres minúsculas?\n",
    "print(cadena.islower())\n",
    "\n",
    "# ¿Y ahora?\n",
    "print(cadena.lower().islower())\n",
    "\n",
    "# Concatenamos dos cadenas con un carácter de separación\n",
    "# El método join() se llama sobre el carácter que usamos como separador\n",
    "print(' '.join([ejemplo, ejemplo2]))"
   ]
  },
  {
   "cell_type": "markdown",
   "metadata": {},
   "source": [
    "<a id=\"Tuples\"></a>\n",
    "### 2.2.4 Secuencias: Tuplas"
   ]
  },
  {
   "cell_type": "markdown",
   "metadata": {},
   "source": [
    "Las tuplas son **secuencias inmutables** de objetos, que pueden ser de tipos completamente heterogéneos o todos del mismo tipo. La norma básica es que, una vez creada la tupla, sus elementos ya no se pueden modificar ni cambiar de posición (de ahí que sean objetos *inmutables*). Esto nos permite garantizar que esos valores no se puedan modificar en ningún caso.\n",
    "\n",
    "Veamos algunos ejemplos:"
   ]
  },
  {
   "cell_type": "code",
   "execution_count": null,
   "metadata": {
    "collapsed": false
   },
   "outputs": [],
   "source": [
    "# Variables que usamos para el ejemplo\n",
    "a = 1\n",
    "b = 2\n",
    "c = 3\n",
    "# Definición de tuplas\n",
    "# Tupla vacía\n",
    "()\n",
    "# Tupla con un elemento\n",
    "t1 = a,\n",
    "t1 = (a,)\n",
    "# Tupla con varios elementos\n",
    "t2 = a, b, c\n",
    "t2 = (a, b, c)\n",
    "# También podemos llamar explícitamente a la función tuple()\n",
    "# para transformar en tupla otros tipos de secuencias, por\n",
    "# ejemplo una lista  \n",
    "t3 = tuple([c,])\n",
    "print(t3)"
   ]
  },
  {
   "cell_type": "markdown",
   "metadata": {},
   "source": [
    "Puesto que las tuplas son secuencias, podemos aplicar sobre ellas todas las [operaciones comunes para objetos de tipo secuencia](https://docs.python.org/3.4/library/stdtypes.html#typesseq-common)."
   ]
  },
  {
   "cell_type": "markdown",
   "metadata": {},
   "source": [
    "<a id=\"Lists\"></a>\n",
    "### 2.2.5 Secuencias: Listas"
   ]
  },
  {
   "cell_type": "markdown",
   "metadata": {},
   "source": [
    "Una lista nos proporciona una **secuencia mutable** de componentes que suelen ser de un tipo de datos homogéneo, aunque nada impide crear listas cuyos componentes sean de tipos distintos. Al ser secuencias *mutables*, las listas están preparadas para modificar su contenido a lo largo de la ejecución del programa, y para ello ofrecen más operaciones además de las comunes para todos los objetos de tipo secuencia.\n",
    "\n",
    "Veamos algunos ejemplos:"
   ]
  },
  {
   "cell_type": "code",
   "execution_count": null,
   "metadata": {
    "collapsed": false
   },
   "outputs": [],
   "source": [
    "# Variables que usamos para el ejemplo\n",
    "a = 1\n",
    "b = 2\n",
    "c = 3\n",
    "# Definición de listas\n",
    "# Lista vacía\n",
    "[]\n",
    "# Lista con un elemento\n",
    "l1 = [a]\n",
    "# Lista con varios elementos\n",
    "l2 = [a, b, c]\n",
    "# También podemos llamar explícitamente a la función list()\n",
    "# para transformar en lista otros tipos de secuencias, por\n",
    "# ejemplo una tupla  \n",
    "l3 = list((a, b, c))\n",
    "print(l3)\n",
    "\n",
    "# Finalmente, también podemos generar listas de una forma\n",
    "# muy compacta y típica en lenguaje Python, llamada\n",
    "# list comprehension\n",
    "# my_list = [x for x in iterable]\n",
    "l4 = [x for x in t2*2]\n",
    "print(l4)"
   ]
  },
  {
   "cell_type": "markdown",
   "metadata": {},
   "source": [
    "Tal y como hemos dicho, además de las  [operaciones comunes para objetos de tipo secuencia](https://docs.python.org/3.4/library/stdtypes.html#typesseq-common), las listas soportan una serie de [operaciones específicas para objetos de tipo secuencia mutable](https://docs.python.org/3.4/library/stdtypes.html#mutable-sequence-types)."
   ]
  },
  {
   "cell_type": "code",
   "execution_count": null,
   "metadata": {
    "collapsed": false
   },
   "outputs": [],
   "source": [
    "# Indexación\n",
    "# Imprime el cuarto elemento de la lista\n",
    "# ATENCIÓN: en Python los índices de secuencias comienzan en 0 (no como en R)\n",
    "l5 = [1, 2, 3, 4, 5]\n",
    "print('Cuarto elemento de la lista:', l5[3])\n",
    "\n",
    "# Añadir un elemento al final\n",
    "l5.append(55)\n",
    "\n",
    "# Insertar en la posición i un elemento x\n",
    "# s.insert(i, x)\n",
    "l5.insert(0, 11)\n",
    "\n",
    "# Secuencia de elementos en orden inverso\n",
    "l5.reverse()\n",
    "print('Lista en orden inverso', l5)\n",
    "\n",
    "# Extraer el último elmento de la secuencia\n",
    "print('Sacamos el último elmento:', l5.pop())\n",
    "print('Y la lista queda:', l5)"
   ]
  },
  {
   "cell_type": "markdown",
   "metadata": {},
   "source": [
    "<a id=\"Dicts\"></a>\n",
    "### 2.2.6 Mapeo: Diccionarios"
   ]
  },
  {
   "cell_type": "markdown",
   "metadata": {},
   "source": [
    "Los diccionarios son colecciones que permiten clasificar objetos de tipo arbitrario, cada uno de ellos identificado mediante una clave única que no se puede repetir (lo que se conoce como un `hash`). Los diccionarios son **collecciones mutables** porque sus componentes pueden cambiar a lo largo de la ejecución de un programa. Eso sí, siempre se garantiza que no pueden existir dos elementos de un diccionario con el mismo identificador `hash`.\n",
    "\n",
    "Veamos algunos ejemplos:"
   ]
  },
  {
   "cell_type": "code",
   "execution_count": null,
   "metadata": {
    "collapsed": false
   },
   "outputs": [],
   "source": [
    "# Definición\n",
    "# Usando llaves\n",
    "d1 = {'nombre': 'Barack', 'apellido': 'Obama', 'cargo':'presidente'}\n",
    "# Que podemos usar para formatear una línea con parámetros a imprimir\n",
    "print('El {cargo} actual de los EE.UU. es {nombre} {apellido}.'.format(**d1))\n",
    "\n",
    "# Usando la función integrada dict()\n",
    "# Aquí no hace falta usar comillas para las claves\n",
    "d2 = dict(nombre='Clark', apellido='Kent', identidad='Superman')\n",
    "print('El superhéroe {identidad} es en realidad {nombre} {apellido}.'.format(**d2))\n",
    "\n",
    "# A partir de otras secuencias\n",
    "d3 = dict([('Batman', 'Bruce Wayne'), ('Tony Stark', 'Iron Man')])\n",
    "print(d3)"
   ]
  },
  {
   "cell_type": "markdown",
   "metadata": {},
   "source": [
    "Los diccionarios son colecciones especiales de datos (llamadas mapeo o *mapping* en inglés), que implementan una serie de [operaciones especiales para objetos de tipo mapping](https://docs.python.org/3.4/library/stdtypes.html#mapping-types-dict). Entre las más importantes están las de recuperar (`get`) o actualizar (`update`) un el elemento correspondiente a una clave dada."
   ]
  },
  {
   "cell_type": "code",
   "execution_count": null,
   "metadata": {
    "collapsed": false
   },
   "outputs": [],
   "source": [
    "d3 = dict([('Batman', 'Bruce Wayne'), ('Tony Stark', 'Iron Man')])\n",
    "# Obtener un objeto\n",
    "print(d3.get('Batman'))\n",
    "\n",
    "# ¿Y si no está esa clave?\n",
    "print(d3.get('Thor'))\n",
    "\n",
    "# Añadiendo entradas, debe ser una lista que contenga tuplas de dos elementos\n",
    "d3.update([('Thor', 'Dios del Trueno')])\n",
    "print(d3)"
   ]
  },
  {
   "cell_type": "markdown",
   "metadata": {},
   "source": [
    "<a id=\"Sets\"></a>\n",
    "### 2.2.7 Conjuntos"
   ]
  },
  {
   "cell_type": "markdown",
   "metadata": {},
   "source": [
    "Se trata de colecciones no ordenadas de objetos que no se repiten. En cierto modo, podemos verlos como las colecciones de claves que no se repiten de un diccionario, pero sin un valor u objeto asociado a cada una. Las aplicaciones típicas de los conjuntos son:\n",
    "* Comprobaciones de pertenencia a un conjunto.\n",
    "* Garantizar que se eliminan elementos duplicados.\n",
    "* Cálculo de [funciones matemáticas para conjuntos](https://docs.python.org/3.4/library/stdtypes.html#set-types-set-frozenset): unión, intersección, diferencia y diferencia simétrica."
   ]
  },
  {
   "cell_type": "code",
   "execution_count": null,
   "metadata": {
    "collapsed": false
   },
   "outputs": [],
   "source": [
    "# Ejemplo: aplicación sencilla para eliminar duplicados\n",
    "set1 = set([1, 2, 1, 3, 1, 4])\n",
    "set2 = set([2, 3, 4, 5, 5, 5])\n",
    "\n",
    "# Unión\n",
    "print('Unión:', set1 | set2)\n",
    "\n",
    "# Intersección\n",
    "print('Intersección:', set1 & set2)"
   ]
  },
  {
   "cell_type": "markdown",
   "metadata": {},
   "source": [
    "<a id=\"Flow-control\"></a>\n",
    "## 2.3 Control de flujo"
   ]
  },
  {
   "cell_type": "markdown",
   "metadata": {},
   "source": [
    "De forma análoga a otros lenguajes de programación, Python ofrece diferentes tipos de sentencias para controlar el flujo de ejecución de nuestros programas. A continuación vemos algunos ejemplos.\n",
    "\n",
    "Para más información, véase la sección sobre [control de flujo](https://docs.python.org/3.4/tutorial/controlflow.html) en el tutorial oficial de Python."
   ]
  },
  {
   "cell_type": "markdown",
   "metadata": {},
   "source": [
    "<a id=\"If-else\"></a>\n",
    "### 2.3.1 If/elif/else"
   ]
  },
  {
   "cell_type": "code",
   "execution_count": null,
   "metadata": {
    "collapsed": false
   },
   "outputs": [],
   "source": [
    "# Cambiar los valores de a en el ejemplo para comprobar las diferencias\n",
    "# en la salida\n",
    "a = 10\n",
    "if a > 0:\n",
    "    print('La variable a es positiva.')\n",
    "elif a == 0:\n",
    "    print('La variable a es cero.')\n",
    "else:\n",
    "    print('La variable a es negativa.')"
   ]
  },
  {
   "cell_type": "markdown",
   "metadata": {},
   "source": [
    "<a id=\"While\"></a>\n",
    "### 2.3.2 While"
   ]
  },
  {
   "cell_type": "code",
   "execution_count": null,
   "metadata": {
    "collapsed": false
   },
   "outputs": [],
   "source": [
    "# Ejemplo de bucle while\n",
    "a = 0.5\n",
    "\n",
    "while  a > 0.01:\n",
    "    a = a / 2\n",
    "print(a)"
   ]
  },
  {
   "cell_type": "markdown",
   "metadata": {},
   "source": [
    "<a id=\"For\"></a>\n",
    "### 2.3.3 For/range"
   ]
  },
  {
   "cell_type": "code",
   "execution_count": null,
   "metadata": {
    "collapsed": false
   },
   "outputs": [],
   "source": [
    "# Ejemplo de bucle for\n",
    "elementos = ['Superman', 'Batman', 'Robin']\n",
    "\n",
    "for e in elementos:\n",
    "    print(e)\n",
    "    \n",
    "# range() nos permite controlar el índice de la iteración\n",
    "for i in range(1, 10):\n",
    "    print(i**2)\n",
    "    \n",
    "# También podemos cambiar el salto entre elementos del rango\n",
    "# range(1, 10, 3)\n",
    "\n",
    "# Cuidado: el objeto devuelto por range no es una lista, sino un\n",
    "# iterador, que va generando cada nuevo elemento conforme se necesita.\n",
    "# Así se ahorra espacio\n",
    "print(range(1, 10))"
   ]
  },
  {
   "cell_type": "markdown",
   "metadata": {},
   "source": [
    "<a id=\"Break-cont\"></a>\n",
    "### 2.3.4 Break/continue y else en bucles"
   ]
  },
  {
   "cell_type": "code",
   "execution_count": null,
   "metadata": {
    "collapsed": false
   },
   "outputs": [],
   "source": [
    "# Break interrumpe un bucle y sale del mismo\n",
    "# Identificación de primos y compuestos\n",
    "for n in range(2, 10):\n",
    "    for x in range(2, n):\n",
    "        if n % x == 0:\n",
    "            print(n, 'es igual a', x, '*', n//x)\n",
    "            break\n",
    "        else:\n",
    "            # el bucle acabó sin encontrar factores entre 1 y n\n",
    "            print(n, 'es primo')\n",
    "\n",
    "# Continue pasa a la siguiente iteración del bucle\n",
    "for i in range(2, 10):\n",
    "    if i % 2 == 0:\n",
    "        print(i, 'es un número par')\n",
    "        continue\n",
    "    print(i, 'es un número impar')"
   ]
  },
  {
   "cell_type": "markdown",
   "metadata": {},
   "source": [
    "<a id=\"Adv-iter\"></a>\n",
    "### 2.3.5 Métodos avanzados de iteración"
   ]
  },
  {
   "cell_type": "markdown",
   "metadata": {},
   "source": [
    "Además de los métodos anteriores, Python proporciona algunos métodos de iteración potentes y a la vez sencillos de escribir."
   ]
  },
  {
   "cell_type": "code",
   "execution_count": null,
   "metadata": {
    "collapsed": false
   },
   "outputs": [],
   "source": [
    "# Podemos iterar directamente sobre los elementos de cualquier\n",
    "# objeto de tipo secuencia\n",
    "cadena = 'Supercalifragilístico'\n",
    "for letra in cadena:\n",
    "    print(letra, ' ', end=\"\")\n",
    "print()\n",
    "    \n",
    "# Usamos la función enumerate() para acceder también al índice\n",
    "# de la secuencia de iteración, si es preciso\n",
    "for i, letra in enumerate(cadena):\n",
    "    print(i, ':', letra, ' ', end=\"\")\n",
    "    \n",
    "# Finalmente, también tenemos las list comprehensions\n",
    "[i**3 for i in range(10)]"
   ]
  }
 ],
 "metadata": {
  "kernelspec": {
   "display_name": "Python 3",
   "language": "python",
   "name": "python3"
  },
  "language_info": {
   "codemirror_mode": {
    "name": "ipython",
    "version": 3
   },
   "file_extension": ".py",
   "mimetype": "text/x-python",
   "name": "python",
   "nbconvert_exporter": "python",
   "pygments_lexer": "ipython3",
   "version": "3.4.3"
  }
 },
 "nbformat": 4,
 "nbformat_minor": 0
}
